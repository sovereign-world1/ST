{
  "cells": [
    {
      "cell_type": "markdown",
      "metadata": {
        "id": "view-in-github",
        "colab_type": "text"
      },
      "source": [
        "<a href=\"https://colab.research.google.com/github/sovereign-world1/ST/blob/master/lists_tuples.ipynb\" target=\"_parent\"><img src=\"https://colab.research.google.com/assets/colab-badge.svg\" alt=\"Open In Colab\"/></a>"
      ]
    },
    {
      "cell_type": "markdown",
      "source": [
        "# Основы типов данных. Списки и кортежи\n",
        "\n",
        "Автор: **[Булыгин Олег](https://olegtalks.ru/)**\n",
        "* [Мой канал в ТГ по Python](https://t.me/pythontalk_ru)\n",
        "\n",
        "Ссылочки в ноутбуке ведут на полезные доп. материалы, обязательно всё изучайте :)"
      ],
      "metadata": {
        "id": "WuPm8sdOa_yJ"
      }
    },
    {
      "cell_type": "markdown",
      "source": [
        "На текущий момент вы знаете в основном о числовом, строковом и логическом типах данных.\n",
        "\n",
        "В Python можно узнавать тип переменной, используя встроенную функцию `type()`.\n",
        "\n"
      ],
      "metadata": {
        "id": "4j95liEmuEp_"
      }
    },
    {
      "cell_type": "code",
      "source": [
        "pi = 3.14\n",
        "print(type(pi))\n",
        "\n",
        "pi_str = '3.14'\n",
        "print(type(pi_str))"
      ],
      "metadata": {
        "id": "_6yYPKr_uens",
        "colab": {
          "base_uri": "https://localhost:8080/"
        },
        "outputId": "2187fa00-176f-4e7e-acd4-9ac92c8ab885"
      },
      "execution_count": null,
      "outputs": [
        {
          "output_type": "stream",
          "name": "stdout",
          "text": [
            "<class 'float'>\n",
            "<class 'str'>\n"
          ]
        }
      ]
    },
    {
      "cell_type": "markdown",
      "source": [
        "## Преобразование базовых [типов данных](https://teletype.in/@pythontalk/datatypes_python)\n",
        "\n",
        "Несмотря на то что работа с ними всё же заметно разная, есть возможность преобразования одного типа в другой.\n",
        "\n"
      ],
      "metadata": {
        "id": "lEMexRiMvcju"
      }
    },
    {
      "cell_type": "markdown",
      "source": [
        "### Преобразование чисел"
      ],
      "metadata": {
        "id": "jhmTORKzv_sh"
      }
    },
    {
      "cell_type": "code",
      "source": [
        "my_integer = 10\n",
        "my_float = 5.5\n",
        "\n",
        "float_to_int = int(my_float)\n",
        "print(float_to_int)\n",
        "\n",
        "int_to_float = float(my_integer)\n",
        "print(int_to_float)"
      ],
      "metadata": {
        "id": "pRiXoVZZwF64",
        "colab": {
          "base_uri": "https://localhost:8080/"
        },
        "outputId": "5dbd10b2-88dc-431b-c5da-bbf8305f7a90"
      },
      "execution_count": null,
      "outputs": [
        {
          "output_type": "stream",
          "name": "stdout",
          "text": [
            "5\n",
            "10.0\n"
          ]
        }
      ]
    },
    {
      "cell_type": "code",
      "source": [
        "int_to_str = str(my_integer)\n",
        "float_to_str = str(my_float)\n",
        "print(int_to_str)\n",
        "print(float_to_str)"
      ],
      "metadata": {
        "id": "xTYFzECW78I8",
        "colab": {
          "base_uri": "https://localhost:8080/"
        },
        "outputId": "9ed1641a-ef05-4759-9104-aff84450df84"
      },
      "execution_count": null,
      "outputs": [
        {
          "output_type": "stream",
          "name": "stdout",
          "text": [
            "10\n",
            "5.5\n"
          ]
        }
      ]
    },
    {
      "cell_type": "code",
      "source": [
        "int_to_bool = bool(my_integer)\n",
        "float_to_bool = bool(my_float)\n",
        "\n",
        "print(int_to_bool)\n",
        "print(float_to_bool)"
      ],
      "metadata": {
        "id": "FWKKHJdj78_G",
        "colab": {
          "base_uri": "https://localhost:8080/"
        },
        "outputId": "2bdb7f78-a025-4187-a171-25eea3049e14"
      },
      "execution_count": null,
      "outputs": [
        {
          "output_type": "stream",
          "name": "stdout",
          "text": [
            "True\n",
            "True\n"
          ]
        }
      ]
    },
    {
      "cell_type": "markdown",
      "source": [
        "### Преобразование строк"
      ],
      "metadata": {
        "id": "kbJ5YFN7wk6K"
      }
    },
    {
      "cell_type": "code",
      "source": [
        "my_str = '42'\n",
        "\n",
        "str_to_int = int(my_str)\n",
        "print(str_to_int)"
      ],
      "metadata": {
        "id": "jn1Q_eGnwm3W",
        "colab": {
          "base_uri": "https://localhost:8080/"
        },
        "outputId": "6e984cd6-8ceb-402a-a091-f31fd6d17656"
      },
      "execution_count": null,
      "outputs": [
        {
          "output_type": "stream",
          "name": "stdout",
          "text": [
            "42\n"
          ]
        }
      ]
    },
    {
      "cell_type": "code",
      "source": [
        "my_str = '42.42'\n",
        "\n",
        "str_to_float = float(my_str)\n",
        "print(str_to_float)"
      ],
      "metadata": {
        "id": "BWptfLGLwwMm",
        "colab": {
          "base_uri": "https://localhost:8080/"
        },
        "outputId": "5daacf13-47d9-470b-9ccd-883393f9f4eb"
      },
      "execution_count": null,
      "outputs": [
        {
          "output_type": "stream",
          "name": "stdout",
          "text": [
            "42.42\n"
          ]
        }
      ]
    },
    {
      "cell_type": "code",
      "source": [
        "my_str = 'Hello World!'\n",
        "\n",
        "str_to_bool = bool(my_str)\n",
        "print(str_to_bool)"
      ],
      "metadata": {
        "id": "P1mNE9x9wybf",
        "colab": {
          "base_uri": "https://localhost:8080/"
        },
        "outputId": "ca3a69b8-a808-455a-9c8c-c48423c9ca92"
      },
      "execution_count": null,
      "outputs": [
        {
          "output_type": "stream",
          "name": "stdout",
          "text": [
            "True\n"
          ]
        }
      ]
    },
    {
      "cell_type": "markdown",
      "source": [
        "### Преобразование логических значений"
      ],
      "metadata": {
        "id": "Z8jy41NFJKVC"
      }
    },
    {
      "cell_type": "code",
      "source": [
        "my_bool = True\n",
        "\n",
        "bool_to_str = str(my_bool)\n",
        "print(bool_to_str)"
      ],
      "metadata": {
        "id": "m9U2RwrvJOAf",
        "colab": {
          "base_uri": "https://localhost:8080/"
        },
        "outputId": "e04c9a60-6d60-4e08-8ee2-5ed7b0aa9432"
      },
      "execution_count": null,
      "outputs": [
        {
          "output_type": "stream",
          "name": "stdout",
          "text": [
            "True\n"
          ]
        }
      ]
    },
    {
      "cell_type": "code",
      "source": [
        "bool_to_int = int(my_bool)\n",
        "print(bool_to_int)"
      ],
      "metadata": {
        "id": "IfuZ93cC7-3q",
        "colab": {
          "base_uri": "https://localhost:8080/"
        },
        "outputId": "8fb38d0d-488b-46a2-ce70-a872f9a39a5b"
      },
      "execution_count": null,
      "outputs": [
        {
          "output_type": "stream",
          "name": "stdout",
          "text": [
            "1\n"
          ]
        }
      ]
    },
    {
      "cell_type": "code",
      "source": [
        "bool_to_float = float(my_bool)\n",
        "print(bool_to_float)"
      ],
      "metadata": {
        "id": "8GRqYy227_Wm",
        "colab": {
          "base_uri": "https://localhost:8080/"
        },
        "outputId": "265cd97f-8c7f-4553-d3aa-7a32032b1c98"
      },
      "execution_count": null,
      "outputs": [
        {
          "output_type": "stream",
          "name": "stdout",
          "text": [
            "1.0\n"
          ]
        }
      ]
    },
    {
      "cell_type": "code",
      "source": [
        "res = input('Введите число')\n",
        "\n",
        "print(res)\n",
        "print(type(res))"
      ],
      "metadata": {
        "colab": {
          "base_uri": "https://localhost:8080/"
        },
        "id": "a5sIr2wJMLyM",
        "outputId": "8fab9d9f-2ad4-4482-f324-7f4753cb59ce"
      },
      "execution_count": null,
      "outputs": [
        {
          "output_type": "stream",
          "name": "stdout",
          "text": [
            "Введите число5\n",
            "5\n",
            "<class 'str'>\n"
          ]
        }
      ]
    },
    {
      "cell_type": "markdown",
      "source": [
        "## [Индексация и срезы](https://teletype.in/@pythontalk/indexes_slices)\n",
        "\n",
        "Каждый элемент в строке пронумерован, и начало отсчёта ведётся с нуля. Порядковый номер элемента называют индексом. Чтобы извлечь элемент строки по индексу, нужно написать его внутри квадратных скобок справа от переменной, которая хранит текстовые данные:"
      ],
      "metadata": {
        "id": "s8azG435_Xpc"
      }
    },
    {
      "cell_type": "code",
      "source": [
        "str_ = \"Hello!\"\n",
        "\n",
        "print(str_[0])\n",
        "print(str_[4])"
      ],
      "metadata": {
        "id": "1H6HZgVI_Zx6",
        "colab": {
          "base_uri": "https://localhost:8080/"
        },
        "outputId": "1ee0c0ec-2421-4648-fbf4-caba3bafc0a5"
      },
      "execution_count": null,
      "outputs": [
        {
          "output_type": "stream",
          "name": "stdout",
          "text": [
            "H\n",
            "o\n"
          ]
        }
      ]
    },
    {
      "cell_type": "markdown",
      "source": [
        "Индексы могут быть отрицательными, они нумеруются от последнего символа к первому:"
      ],
      "metadata": {
        "id": "9tcqyJY8-quG"
      }
    },
    {
      "cell_type": "code",
      "source": [
        "print(str_[-1])\n",
        "print(str_[-3])"
      ],
      "metadata": {
        "id": "pRaPgrtC-xE4",
        "colab": {
          "base_uri": "https://localhost:8080/"
        },
        "outputId": "73f05d9c-9483-4117-ce4b-fdfe8bdcdde0"
      },
      "execution_count": null,
      "outputs": [
        {
          "output_type": "stream",
          "name": "stdout",
          "text": [
            "!\n",
            "l\n"
          ]
        }
      ]
    },
    {
      "cell_type": "markdown",
      "source": [
        "Можно извлекать не только одиночные элементы, но и целые подстроки, исползуя срезы.\n",
        "\n",
        "В общем случае срезы определяются по шаблону:\n",
        "\n",
        "`[начало:конец:шаг]`\n",
        "\n",
        "где `начало` — это индекс первого символа подстроки;\n",
        "\n",
        "`конец` — индекс символа, следующего сразу после подстроки (символ с указанным индексом сам не включается в подстроку);\n",
        "\n",
        "`шаг` — позволяет извлекать не все элементы, а, например, следующие через один друг за другом, через два и т.д.\n",
        "\n"
      ],
      "metadata": {
        "id": "H3jQEfJS_sA_"
      }
    },
    {
      "cell_type": "code",
      "source": [
        "str_ = \"Hello!\"\n",
        "print(str_[2:4])"
      ],
      "metadata": {
        "id": "Lz6xL13t_tYW",
        "colab": {
          "base_uri": "https://localhost:8080/"
        },
        "outputId": "90daf1c2-268b-42fa-9d69-00264d8cc124"
      },
      "execution_count": null,
      "outputs": [
        {
          "output_type": "stream",
          "name": "stdout",
          "text": [
            "ll\n"
          ]
        }
      ]
    },
    {
      "cell_type": "code",
      "source": [
        "str_ = \"Hello!\"\n",
        "print(str_[2:5:2])"
      ],
      "metadata": {
        "id": "2ta-twID_Hc-",
        "colab": {
          "base_uri": "https://localhost:8080/"
        },
        "outputId": "46325d7a-6fb5-443f-a480-4f898d98b097"
      },
      "execution_count": null,
      "outputs": [
        {
          "output_type": "stream",
          "name": "stdout",
          "text": [
            "lo\n",
            "lo\n"
          ]
        }
      ]
    },
    {
      "cell_type": "markdown",
      "source": [
        "Не все элементы шаблона обязательно должны использоваться.  \n",
        "* Если мы не указываем начало среза, то по умолчанию срезаем с первого символа в строке.\n",
        "\n",
        "* Если не указываем конец среза, то по умолчанию срезаем до конца строки.\n",
        "\n",
        "* Если не указываем значение для шага, то по умолчанию он равен 1.\n",
        "\n"
      ],
      "metadata": {
        "id": "cn6j0HiPANHH"
      }
    },
    {
      "cell_type": "code",
      "source": [
        "str_ = \"Hello!\"\n",
        "print(str_[2:])"
      ],
      "metadata": {
        "id": "6CUIQaj5AOxG",
        "colab": {
          "base_uri": "https://localhost:8080/"
        },
        "outputId": "ce6552a8-63bd-4d75-af99-fa4d6301cdb1"
      },
      "execution_count": null,
      "outputs": [
        {
          "output_type": "stream",
          "name": "stdout",
          "text": [
            "llo!\n"
          ]
        }
      ]
    },
    {
      "cell_type": "code",
      "source": [
        "print(str_[:4])"
      ],
      "metadata": {
        "id": "Wbhy4QVTAQ3D",
        "colab": {
          "base_uri": "https://localhost:8080/"
        },
        "outputId": "f086155c-cc2c-4b10-ba28-42e35f2a9c7c"
      },
      "execution_count": null,
      "outputs": [
        {
          "output_type": "stream",
          "name": "stdout",
          "text": [
            "Hell\n"
          ]
        }
      ]
    },
    {
      "cell_type": "markdown",
      "source": [
        "Можно извлекать символы, используя только шаг. Например, для извлечения каждого второго символа нужно использовать:\n",
        "\n"
      ],
      "metadata": {
        "id": "RdNko-BeAaSN"
      }
    },
    {
      "cell_type": "code",
      "source": [
        "print(str_[::2])"
      ],
      "metadata": {
        "id": "h99Dy_1aAbKw",
        "colab": {
          "base_uri": "https://localhost:8080/"
        },
        "outputId": "0a3ad914-64a4-4403-d197-713fb7217682"
      },
      "execution_count": null,
      "outputs": [
        {
          "output_type": "stream",
          "name": "stdout",
          "text": [
            "Hlo\n"
          ]
        }
      ]
    },
    {
      "cell_type": "markdown",
      "source": [
        "Отрицательный шаг позволяет развернуть строку:\n",
        "\n"
      ],
      "metadata": {
        "id": "Kfd86w6MAcZD"
      }
    },
    {
      "cell_type": "code",
      "source": [
        "print(str_[::-1])"
      ],
      "metadata": {
        "id": "izkaBRhTAdTH",
        "colab": {
          "base_uri": "https://localhost:8080/"
        },
        "outputId": "ee886485-7f54-49c9-9821-fec90915c23f"
      },
      "execution_count": null,
      "outputs": [
        {
          "output_type": "stream",
          "name": "stdout",
          "text": [
            "!olleH\n"
          ]
        }
      ]
    },
    {
      "cell_type": "markdown",
      "source": [
        "Есть указать в срезе несуществующую границу, то в результат будут включены все существующие элементы. Если же указать несуществующий индекс, то получим ошибку."
      ],
      "metadata": {
        "id": "43cuEkJPApf6"
      }
    },
    {
      "cell_type": "code",
      "source": [
        "print(str_[2:700])\n",
        "print(str_[100])"
      ],
      "metadata": {
        "id": "wLPS6MD5Ap4E",
        "colab": {
          "base_uri": "https://localhost:8080/",
          "height": 176
        },
        "outputId": "601a7865-0638-481f-8d54-6d6e7506b62b"
      },
      "execution_count": null,
      "outputs": [
        {
          "output_type": "stream",
          "name": "stdout",
          "text": [
            "llo!\n"
          ]
        },
        {
          "output_type": "error",
          "ename": "IndexError",
          "evalue": "string index out of range",
          "traceback": [
            "\u001b[0;31m---------------------------------------------------------------------------\u001b[0m",
            "\u001b[0;31mIndexError\u001b[0m                                Traceback (most recent call last)",
            "\u001b[0;32m<ipython-input-22-17af5544ee84>\u001b[0m in \u001b[0;36m<cell line: 2>\u001b[0;34m()\u001b[0m\n\u001b[1;32m      1\u001b[0m \u001b[0mprint\u001b[0m\u001b[0;34m(\u001b[0m\u001b[0mstr_\u001b[0m\u001b[0;34m[\u001b[0m\u001b[0;36m2\u001b[0m\u001b[0;34m:\u001b[0m\u001b[0;36m700\u001b[0m\u001b[0;34m]\u001b[0m\u001b[0;34m)\u001b[0m\u001b[0;34m\u001b[0m\u001b[0;34m\u001b[0m\u001b[0m\n\u001b[0;32m----> 2\u001b[0;31m \u001b[0mprint\u001b[0m\u001b[0;34m(\u001b[0m\u001b[0mstr_\u001b[0m\u001b[0;34m[\u001b[0m\u001b[0;36m100\u001b[0m\u001b[0;34m]\u001b[0m\u001b[0;34m)\u001b[0m\u001b[0;34m\u001b[0m\u001b[0;34m\u001b[0m\u001b[0m\n\u001b[0m",
            "\u001b[0;31mIndexError\u001b[0m: string index out of range"
          ]
        }
      ]
    },
    {
      "cell_type": "markdown",
      "source": [
        "Строки являются неизменяемым типом, поэтому нельзя переназначить элемент по индексу\n"
      ],
      "metadata": {
        "id": "C4RIDVGaAtSQ"
      }
    },
    {
      "cell_type": "code",
      "execution_count": null,
      "metadata": {
        "id": "tB2aHfrKRbF4",
        "colab": {
          "base_uri": "https://localhost:8080/",
          "height": 141
        },
        "outputId": "cf9870d8-62b6-4f6c-f553-b84d5363d669"
      },
      "outputs": [
        {
          "output_type": "error",
          "ename": "TypeError",
          "evalue": "'str' object does not support item assignment",
          "traceback": [
            "\u001b[0;31m---------------------------------------------------------------------------\u001b[0m",
            "\u001b[0;31mTypeError\u001b[0m                                 Traceback (most recent call last)",
            "\u001b[0;32m<ipython-input-26-eb5440b3ae73>\u001b[0m in \u001b[0;36m<cell line: 1>\u001b[0;34m()\u001b[0m\n\u001b[0;32m----> 1\u001b[0;31m \u001b[0mstr_\u001b[0m\u001b[0;34m[\u001b[0m\u001b[0;36m0\u001b[0m\u001b[0;34m]\u001b[0m \u001b[0;34m=\u001b[0m \u001b[0;34m'!'\u001b[0m\u001b[0;34m\u001b[0m\u001b[0;34m\u001b[0m\u001b[0m\n\u001b[0m",
            "\u001b[0;31mTypeError\u001b[0m: 'str' object does not support item assignment"
          ]
        }
      ],
      "source": [
        "str_[0] = '!'"
      ]
    },
    {
      "cell_type": "markdown",
      "metadata": {
        "id": "9Rnti1j0RbF5"
      },
      "source": [
        "Дана строковая переменная. Напишем код, который выводит на экран:\n",
        "* средний символ, если число символов в строке нечётное;\n",
        "* два средних символов, если число символов чётное.\n",
        "\n",
        "\n",
        "Примеры работы:\n",
        "\n",
        "```\n",
        "text = 'test'\n",
        "Результат:\n",
        "es\n",
        "\n",
        "text = 'testing'\n",
        "Результат\n",
        "t\n",
        "```"
      ]
    },
    {
      "cell_type": "code",
      "source": [
        "text = 'tester'\n",
        "\n",
        "if len(text) % 2 != 0:\n",
        "    print(text[len(text) // 2])\n",
        "else:\n",
        "    print(text[len(text) // 2 - 1: len(text) // 2 + 1])"
      ],
      "metadata": {
        "id": "rsxOCevqysIv",
        "colab": {
          "base_uri": "https://localhost:8080/"
        },
        "outputId": "e4af3152-ff0b-4ff1-cc99-7411be67681c"
      },
      "execution_count": null,
      "outputs": [
        {
          "output_type": "stream",
          "name": "stdout",
          "text": [
            "st\n"
          ]
        }
      ]
    },
    {
      "cell_type": "markdown",
      "source": [
        "## Списки\n",
        "\n",
        "Список в Python — это упорядоченная изменяемая коллекция объектов произвольных типов.\n",
        "\n",
        "Пустой список можно создать так:"
      ],
      "metadata": {
        "id": "CAgns6zoB7RI"
      }
    },
    {
      "cell_type": "code",
      "source": [
        "my_list = []\n",
        "print(type(my_list))"
      ],
      "metadata": {
        "id": "o5jI3TjwCISJ",
        "colab": {
          "base_uri": "https://localhost:8080/"
        },
        "outputId": "4c8109ee-e7db-448f-d69a-d03dd605ac02"
      },
      "execution_count": null,
      "outputs": [
        {
          "output_type": "stream",
          "name": "stdout",
          "text": [
            "<class 'list'>\n"
          ]
        }
      ]
    },
    {
      "cell_type": "markdown",
      "source": [
        "Можем создать сразу список с элементами:"
      ],
      "metadata": {
        "id": "e-23WFFzCkYC"
      }
    },
    {
      "cell_type": "code",
      "source": [
        "languages = ['Python', 'Java', 'C', 'C++', 'JavaScript']\n",
        "print(type(languages))"
      ],
      "metadata": {
        "id": "QrYHGQn3CrTY",
        "colab": {
          "base_uri": "https://localhost:8080/"
        },
        "outputId": "486e1def-5e57-4eaf-d1e1-ea7848d45c49"
      },
      "execution_count": null,
      "outputs": [
        {
          "output_type": "stream",
          "name": "stdout",
          "text": [
            "<class 'list'>\n"
          ]
        }
      ]
    },
    {
      "cell_type": "markdown",
      "source": [
        "В списке можно хранить не только простые типы (числа, строки), но также кортежи, словари, списки, списки внутри списков и даже функции."
      ],
      "metadata": {
        "id": "N5_P4j_gHprx"
      }
    },
    {
      "cell_type": "markdown",
      "source": [
        "Можем получить на основе строки через `split`.\n",
        "\n",
        "Данный метод применяется к строковым объектам и позволяет разбивать их на элементы, разделенные каким-либо символом (пробелом, запятой, тире или указанной последовательностью символов). Каждый элемент после применения метода `split` становится отдельным элементом списка.\n",
        "\n"
      ],
      "metadata": {
        "id": "A0qckDA5C1t5"
      }
    },
    {
      "cell_type": "code",
      "source": [
        "queries_string = \"смотреть сериалы онлайн,новости спорта,афиша кино,курс доллара,сериалы этим летом,курс по питону,сериалы про спорт\"\n",
        "new_list = queries_string.split(', ')\n",
        "print(new_list)"
      ],
      "metadata": {
        "id": "7wtJos0zC9nc",
        "colab": {
          "base_uri": "https://localhost:8080/"
        },
        "outputId": "0a38b357-85fe-45f3-fe40-b540c2b2d51c"
      },
      "execution_count": null,
      "outputs": [
        {
          "output_type": "stream",
          "name": "stdout",
          "text": [
            "['смотреть сериалы онлайн', 'новости спорта', 'афиша кино', 'курс доллара', 'сериалы этим летом', 'курс по питону', 'сериалы про спорт']\n"
          ]
        }
      ]
    },
    {
      "cell_type": "markdown",
      "source": [
        "Списки так же поддерживают индексацию и срезы"
      ],
      "metadata": {
        "id": "GWrs7j4pC9sh"
      }
    },
    {
      "cell_type": "code",
      "source": [
        "languages = ['Python', 'Java', 'C', 'C++', 'JavaScript']\n",
        "\n",
        "print(languages[1])\n",
        "print(languages[:2])\n",
        "print(languages[2:4])\n",
        "print(languages[:4:2])"
      ],
      "metadata": {
        "id": "JLx35ZjiDDqB",
        "colab": {
          "base_uri": "https://localhost:8080/"
        },
        "outputId": "3c941249-7fd8-460c-de25-6b0ca7a5fd70"
      },
      "execution_count": null,
      "outputs": [
        {
          "output_type": "stream",
          "name": "stdout",
          "text": [
            "Java\n",
            "['Python', 'Java']\n",
            "['C', 'C++']\n",
            "['Python', 'C']\n"
          ]
        }
      ]
    },
    {
      "cell_type": "markdown",
      "source": [
        "Списки - изменяемый тип данных, поэтому без проблем можно переназначить его элементы по индексу или срезу."
      ],
      "metadata": {
        "id": "6dr9oRPAtlv5"
      }
    },
    {
      "cell_type": "code",
      "source": [
        "languages = ['Python', 'Java', 'C', 'C++', 'JavaScript']\n",
        "\n",
        "languages[2] = 'C#'\n",
        "print(languages)\n",
        "\n",
        "languages[1:4:2] = ['C++', 'Java']\n",
        "print(languages)"
      ],
      "metadata": {
        "id": "rO6CdvF9tsCm",
        "colab": {
          "base_uri": "https://localhost:8080/"
        },
        "outputId": "9936cdb8-5925-4906-b41a-bdeb18524c9f"
      },
      "execution_count": null,
      "outputs": [
        {
          "output_type": "stream",
          "name": "stdout",
          "text": [
            "['Python', 'Java', 'C#', 'C++', 'JavaScript']\n",
            "['Python', 'C++', 'C#', 'Java', 'JavaScript']\n"
          ]
        }
      ]
    },
    {
      "cell_type": "markdown",
      "source": [
        "### Примеры операций над списками"
      ],
      "metadata": {
        "id": "43_ar7C5EMRV"
      }
    },
    {
      "cell_type": "markdown",
      "source": [
        "Метод `append`\n",
        "\n",
        "Один из самых частоприменимых методов. Его суть заключается в том, чтобы добавить в имеющийся список дополнительный элемент. Он меняет исходный список, но ничего нового не создаёт."
      ],
      "metadata": {
        "id": "1ShEJnq6FXiv"
      }
    },
    {
      "cell_type": "code",
      "source": [
        "languages = ['Python', 'Java', 'C', 'C++', 'JavaScript']\n",
        "languages.append('R')\n",
        "\n",
        "print(languages)"
      ],
      "metadata": {
        "id": "TUtTmO9jFlfi",
        "colab": {
          "base_uri": "https://localhost:8080/"
        },
        "outputId": "17f9d91e-2e42-4b39-de06-d71f6106d49f"
      },
      "execution_count": null,
      "outputs": [
        {
          "output_type": "stream",
          "name": "stdout",
          "text": [
            "['Python', 'Java', 'C', 'C++', 'JavaScript', 'R']\n"
          ]
        }
      ]
    },
    {
      "cell_type": "code",
      "source": [
        "languages = ['Python', 'Java', 'C', 'C++', 'JavaScript']\n",
        "languages.insert(2, 'C#')\n",
        "print(languages)"
      ],
      "metadata": {
        "id": "uDb7EhkMRlz2",
        "colab": {
          "base_uri": "https://localhost:8080/"
        },
        "outputId": "4801dd16-ffb6-4391-cb0d-a3ff65d6dbb7"
      },
      "execution_count": null,
      "outputs": [
        {
          "output_type": "stream",
          "name": "stdout",
          "text": [
            "['Python', 'Java', 'C#', 'C', 'C++', 'JavaScript']\n"
          ]
        }
      ]
    },
    {
      "cell_type": "markdown",
      "source": [
        "Метод `remove`\n",
        "\n",
        "Принимает в качестве аргумента элемент, который мы хотим удалить."
      ],
      "metadata": {
        "id": "OLmQ1p3EA6m2"
      }
    },
    {
      "cell_type": "code",
      "source": [
        "languages = ['Python', 'Java', 'C', 'C++', 'JavaScript', 'C']\n",
        "languages.remove('C')\n",
        "\n",
        "print(languages)"
      ],
      "metadata": {
        "id": "UI4cWc5HBCbB",
        "colab": {
          "base_uri": "https://localhost:8080/"
        },
        "outputId": "4ed23e97-5286-4f87-9e68-847563543340"
      },
      "execution_count": null,
      "outputs": [
        {
          "output_type": "stream",
          "name": "stdout",
          "text": [
            "['Python', 'Java', 'C++', 'JavaScript', 'C']\n"
          ]
        }
      ]
    },
    {
      "cell_type": "markdown",
      "source": [
        "`del` позволяет удалить элементы по индексу/срезу."
      ],
      "metadata": {
        "id": "5U9-rVUTs58r"
      }
    },
    {
      "cell_type": "code",
      "source": [
        "languages = ['Python', 'Java', 'C', 'C++', 'JavaScript']\n",
        "\n",
        "del languages[1:3]\n",
        "print(languages)"
      ],
      "metadata": {
        "id": "LpL0YtYIB2UP",
        "colab": {
          "base_uri": "https://localhost:8080/"
        },
        "outputId": "bd4fad81-aea7-4d27-a097-58c3ac2f0b51"
      },
      "execution_count": null,
      "outputs": [
        {
          "output_type": "stream",
          "name": "stdout",
          "text": [
            "['Python', 'C++', 'JavaScript']\n"
          ]
        }
      ]
    },
    {
      "cell_type": "markdown",
      "source": [
        "Метод `pop()`\n",
        "\n",
        "Используется для удаления элемента из списка по указанному индексу и возвращения этого элемента. Если индекс не указан, метод удаляет и возвращает последний элемент списка."
      ],
      "metadata": {
        "id": "wq6T_5sF9dxa"
      }
    },
    {
      "cell_type": "code",
      "source": [
        "# Инициализация списка задач\n",
        "tasks = []\n",
        "\n",
        "# Добавление задач в список\n",
        "tasks.append(\"Купить книгу по Python\")\n",
        "tasks.append(\"Позвонить другу\")\n",
        "tasks.append(\"Почитать книгу\")\n",
        "\n",
        "# Отображение всех задач\n",
        "print(\"Список задач:\")\n",
        "print(tasks)"
      ],
      "metadata": {
        "id": "Gz1C5Jdi-Ojr",
        "colab": {
          "base_uri": "https://localhost:8080/"
        },
        "outputId": "02b5485b-8eac-4304-efdf-dc8ec1a305a3"
      },
      "execution_count": null,
      "outputs": [
        {
          "output_type": "stream",
          "name": "stdout",
          "text": [
            "Список задач:\n",
            "['Купить книгу по Python', 'Позвонить другу', 'Почитать книгу']\n"
          ]
        }
      ]
    },
    {
      "cell_type": "code",
      "source": [
        "# Удаление последней задачи\n",
        "if tasks:\n",
        "    removed_task = tasks.pop()\n",
        "    print(f\"Задача '{removed_task}' удалена из списка.\")\n",
        "else:\n",
        "    print(\"Список задач пуст.\")\n",
        "\n",
        "# Отображение всех задач после удаления\n",
        "print(\"Список задач после удаления:\")\n",
        "print(tasks)"
      ],
      "metadata": {
        "colab": {
          "base_uri": "https://localhost:8080/"
        },
        "id": "YKcfk5eWXLM1",
        "outputId": "6fd26be4-9753-417b-c0b1-5b241d28fc18"
      },
      "execution_count": null,
      "outputs": [
        {
          "output_type": "stream",
          "name": "stdout",
          "text": [
            "Задача 'Почитать книгу' удалена из списка.\n",
            "Список задач после удаления:\n",
            "['Купить книгу по Python', 'Позвонить другу']\n"
          ]
        }
      ]
    },
    {
      "cell_type": "markdown",
      "source": [
        "Метод `clear`\n",
        "\n",
        "Полностью очищает исходный список."
      ],
      "metadata": {
        "id": "-WSOkqAZFlkX"
      }
    },
    {
      "cell_type": "code",
      "source": [
        "languages = ['Python', 'Java', 'C', 'C++', 'JavaScript']\n",
        "languages.clear()\n",
        "\n",
        "print(languages)"
      ],
      "metadata": {
        "id": "uuikgc_jF5CM",
        "colab": {
          "base_uri": "https://localhost:8080/"
        },
        "outputId": "a54d47d0-4460-4ccb-b6d4-df7f866f5f4f"
      },
      "execution_count": null,
      "outputs": [
        {
          "output_type": "stream",
          "name": "stdout",
          "text": [
            "[]\n"
          ]
        }
      ]
    },
    {
      "cell_type": "markdown",
      "source": [
        "Метод `count`\n",
        "\n",
        "В качестве аргумента принимает значение элемента, количество которого нужно посчитать."
      ],
      "metadata": {
        "id": "7n-T5js9F5Hf"
      }
    },
    {
      "cell_type": "code",
      "source": [
        "income_list = [13000, 14000, 14300, 15000, 13800, 13000, 14900, 15200, 15300]\n",
        "print(income_list.count(13000))"
      ],
      "metadata": {
        "id": "J5VKY1iIGJ2b",
        "colab": {
          "base_uri": "https://localhost:8080/"
        },
        "outputId": "30f42a83-a454-4df0-86e0-16073164080b"
      },
      "execution_count": null,
      "outputs": [
        {
          "output_type": "stream",
          "name": "stdout",
          "text": [
            "2\n"
          ]
        }
      ]
    },
    {
      "cell_type": "code",
      "source": [
        "if income_list.count(13000):\n",
        "    print('Такой элемент есть в списке')\n",
        "else:\n",
        "    print('Элемента нет')"
      ],
      "metadata": {
        "colab": {
          "base_uri": "https://localhost:8080/"
        },
        "id": "SW3hQ98OVvl2",
        "outputId": "579b2760-36a2-4dcc-a78d-a952fda2a107"
      },
      "execution_count": null,
      "outputs": [
        {
          "output_type": "stream",
          "name": "stdout",
          "text": [
            "Такой элемент есть в списке\n"
          ]
        }
      ]
    },
    {
      "cell_type": "markdown",
      "source": [
        "Метод `extend`\n",
        "\n",
        "Присоединяет один список к другому."
      ],
      "metadata": {
        "id": "PviAhUkJGJK2"
      }
    },
    {
      "cell_type": "code",
      "source": [
        "month_list = ['Jan', 'Feb', 'Mar', 'Apr', 'May', 'Jun', 'Jul', 'Aug', 'Sep']\n",
        "month_list_2 = ['Oct', 'Nov', 'Dec']\n",
        "\n",
        "month_list.extend(month_list_2)\n",
        "\n",
        "print(month_list)\n",
        "print(month_list_2)"
      ],
      "metadata": {
        "id": "hIG8dsbTGQjZ",
        "colab": {
          "base_uri": "https://localhost:8080/"
        },
        "outputId": "ef3775e6-3c7f-4f28-9797-36d17687a556"
      },
      "execution_count": null,
      "outputs": [
        {
          "output_type": "stream",
          "name": "stdout",
          "text": [
            "['Jan', 'Feb', 'Mar', 'Apr', 'May', 'Jun', 'Jul', 'Aug', 'Sep', 'Oct', 'Nov', 'Dec']\n",
            "['Oct', 'Nov', 'Dec']\n"
          ]
        }
      ]
    },
    {
      "cell_type": "markdown",
      "source": [
        "Также  можно складывать списки, но данная операция будет создавать новый список, а не менять исходный."
      ],
      "metadata": {
        "id": "0zdzk3OQGQoP"
      }
    },
    {
      "cell_type": "code",
      "source": [
        "month_list = ['Jan', 'Feb', 'Mar', 'Apr', 'May', 'Jun', 'Jul', 'Aug', 'Sep']\n",
        "month_list_2 = ['Oct', 'Nov', 'Dec']\n",
        "\n",
        "new_list = month_list + month_list_2\n",
        "print(new_list)"
      ],
      "metadata": {
        "id": "UwaBteWkGlKU",
        "colab": {
          "base_uri": "https://localhost:8080/"
        },
        "outputId": "2200c2b4-e155-44b2-db3b-b0a3911e3ca5"
      },
      "execution_count": null,
      "outputs": [
        {
          "output_type": "stream",
          "name": "stdout",
          "text": [
            "['Jan', 'Feb', 'Mar', 'Apr', 'May', 'Jun', 'Jul', 'Aug', 'Sep', 'Oct', 'Nov', 'Dec']\n"
          ]
        }
      ]
    },
    {
      "cell_type": "markdown",
      "source": [
        "Метод `reverse`\n",
        "\n",
        "Разворачивает список :)\n",
        "\n"
      ],
      "metadata": {
        "id": "HG1aIGJwGlR3"
      }
    },
    {
      "cell_type": "code",
      "source": [
        "month_list = ['Jan', 'Feb', 'Mar', 'Apr', 'May', 'Jun', 'Jul', 'Aug', 'Sep']\n",
        "month_list.reverse()\n",
        "\n",
        "print(month_list)"
      ],
      "metadata": {
        "id": "LJi9Vwi5GnlA",
        "colab": {
          "base_uri": "https://localhost:8080/"
        },
        "outputId": "184b9a8d-1764-4ef1-a2be-0c9881d907fd"
      },
      "execution_count": null,
      "outputs": [
        {
          "output_type": "stream",
          "name": "stdout",
          "text": [
            "['Sep', 'Aug', 'Jul', 'Jun', 'May', 'Apr', 'Mar', 'Feb', 'Jan']\n"
          ]
        }
      ]
    },
    {
      "cell_type": "markdown",
      "source": [
        "Срез с отрицательным шагом делает то же самое, но создаёт новый объект."
      ],
      "metadata": {
        "id": "FqwZ-W5NGnp5"
      }
    },
    {
      "cell_type": "code",
      "source": [
        "month_list = ['Jan', 'Feb', 'Mar', 'Apr', 'May', 'Jun', 'Jul', 'Aug', 'Sep']\n",
        "month_list = month_list[::-1]\n",
        "\n",
        "print(month_list)"
      ],
      "metadata": {
        "id": "Oxw5mgJvGy7R",
        "colab": {
          "base_uri": "https://localhost:8080/"
        },
        "outputId": "64d11a02-35ad-4f8e-e5bc-6689efef5573"
      },
      "execution_count": null,
      "outputs": [
        {
          "output_type": "stream",
          "name": "stdout",
          "text": [
            "['Sep', 'Aug', 'Jul', 'Jun', 'May', 'Apr', 'Mar', 'Feb', 'Jan']\n"
          ]
        }
      ]
    },
    {
      "cell_type": "markdown",
      "source": [
        "Метод `sort`\n",
        "\n",
        "Внезапно, сортирует элементы в списке."
      ],
      "metadata": {
        "id": "wY3eJN3rGyWo"
      }
    },
    {
      "cell_type": "code",
      "source": [
        "income_list = [13000, 14000, 14300, 15000, 13800, 13000, 14900, 15200, 15300]\n",
        "income_list.sort()\n",
        "print(income_list)\n",
        "\n",
        "income_list.sort(reverse=True)\n",
        "print(income_list)"
      ],
      "metadata": {
        "id": "LQifOD99GzVt",
        "colab": {
          "base_uri": "https://localhost:8080/"
        },
        "outputId": "bb2c695c-1deb-4f6a-982d-470f8d2c1b89"
      },
      "execution_count": null,
      "outputs": [
        {
          "output_type": "stream",
          "name": "stdout",
          "text": [
            "[13000, 13000, 13800, 14000, 14300, 14900, 15000, 15200, 15300]\n",
            "[15300, 15200, 15000, 14900, 14300, 14000, 13800, 13000, 13000]\n"
          ]
        }
      ]
    },
    {
      "cell_type": "markdown",
      "source": [
        "Метод `index()`\n",
        "\n",
        "Возвращает индекс первого вхождения конкретного элемента в списке."
      ],
      "metadata": {
        "id": "X1SrRXti9N3f"
      }
    },
    {
      "cell_type": "code",
      "source": [
        "print(income_list.index(14300))"
      ],
      "metadata": {
        "id": "lngGpyWP9Uri",
        "colab": {
          "base_uri": "https://localhost:8080/"
        },
        "outputId": "98b65005-3db0-458c-96a0-a7f82f3aa105"
      },
      "execution_count": null,
      "outputs": [
        {
          "output_type": "stream",
          "name": "stdout",
          "text": [
            "4\n"
          ]
        }
      ]
    },
    {
      "cell_type": "markdown",
      "source": [
        "Метод `copy()`\n",
        "\n",
        "Создает копию списка."
      ],
      "metadata": {
        "id": "Zlh_4liS8ibZ"
      }
    },
    {
      "cell_type": "markdown",
      "metadata": {
        "id": "zRePKJbjRbF_"
      },
      "source": [
        "В примере ниже переменная `a` и `b` на самом деле указывают на один и тот же объект. В результате, при добавлении в `b` очередного элемента этот элемент добавляется и в исходном листе `a`.\n"
      ]
    },
    {
      "cell_type": "code",
      "execution_count": null,
      "metadata": {
        "id": "4NA4JW3oRbF_",
        "colab": {
          "base_uri": "https://localhost:8080/"
        },
        "outputId": "3725bcfa-91d4-417f-f6e6-a7ff51f91abc"
      },
      "outputs": [
        {
          "output_type": "stream",
          "name": "stdout",
          "text": [
            "[1, 2, 3, 4]\n",
            "[1, 2, 3, 4]\n",
            "134132678587584\n",
            "134132678587584\n"
          ]
        }
      ],
      "source": [
        "a = [1, 2, 3]\n",
        "b = a\n",
        "b.append(4)\n",
        "\n",
        "print(a)\n",
        "print(b)\n",
        "\n",
        "print(id(a))\n",
        "print(id(b))"
      ]
    },
    {
      "cell_type": "code",
      "source": [
        "# создаем копию объекта\n",
        "a = [1, 2, 3]\n",
        "b = a.copy()\n",
        "b.append(4)\n",
        "\n",
        "print(a)\n",
        "print(b)\n",
        "\n",
        "print(id(a))\n",
        "print(id(b))"
      ],
      "metadata": {
        "id": "ueU0RZeI5VOS",
        "colab": {
          "base_uri": "https://localhost:8080/"
        },
        "outputId": "999ff523-4eb5-4d8a-b339-9e53296ec2e9"
      },
      "execution_count": null,
      "outputs": [
        {
          "output_type": "stream",
          "name": "stdout",
          "text": [
            "[1, 2, 3]\n",
            "[1, 2, 3, 4]\n",
            "134132678585344\n",
            "134132678487808\n"
          ]
        }
      ]
    },
    {
      "cell_type": "code",
      "source": [
        "# создаем копию объекта\n",
        "a = [1, 2, 3]\n",
        "b = list(a)\n",
        "b.append(4)\n",
        "\n",
        "print(a)\n",
        "print(b)\n",
        "\n",
        "print(id(a))\n",
        "print(id(b))"
      ],
      "metadata": {
        "id": "UTXBlKQH5UTj",
        "colab": {
          "base_uri": "https://localhost:8080/"
        },
        "outputId": "00c3f9d0-1e69-4b37-c045-1f53ef2766a4"
      },
      "execution_count": null,
      "outputs": [
        {
          "output_type": "stream",
          "name": "stdout",
          "text": [
            "[1, 2, 3]\n",
            "[1, 2, 3, 4]\n",
            "134132680672512\n",
            "134132678586944\n"
          ]
        }
      ]
    },
    {
      "cell_type": "code",
      "source": [
        "# создаем копию объекта (еще способ)\n",
        "a = [1, 2, 3]\n",
        "b = a[:]\n",
        "b.append(4)\n",
        "\n",
        "print(a)\n",
        "print(b)\n",
        "\n",
        "print(id(a))\n",
        "print(id(b))"
      ],
      "metadata": {
        "id": "L43b6hgf5V47",
        "colab": {
          "base_uri": "https://localhost:8080/"
        },
        "outputId": "674a4f15-1429-49bc-f920-94116f4b7700"
      },
      "execution_count": null,
      "outputs": [
        {
          "output_type": "stream",
          "name": "stdout",
          "text": [
            "[1, 2, 3]\n",
            "[1, 2, 3, 4]\n",
            "134132681626496\n",
            "134132678488320\n"
          ]
        }
      ]
    },
    {
      "cell_type": "markdown",
      "source": [
        "Функция `min`\n",
        "\n",
        "Определение минимального значения."
      ],
      "metadata": {
        "id": "M0LnYvUs77ef"
      }
    },
    {
      "cell_type": "code",
      "source": [
        "income_list = [13000, 14000, 14300, 15000, 13800, 13000, 14900, 15200, 15300]\n",
        "min_el = min(income_list)\n",
        "print(min_el)"
      ],
      "metadata": {
        "id": "8UhjpH6vHEZI",
        "colab": {
          "base_uri": "https://localhost:8080/"
        },
        "outputId": "63c28821-3eee-493e-af0b-1dd37c56bb25"
      },
      "execution_count": null,
      "outputs": [
        {
          "output_type": "stream",
          "name": "stdout",
          "text": [
            "13000\n"
          ]
        }
      ]
    },
    {
      "cell_type": "markdown",
      "source": [
        "Функция `max`\n",
        "\n",
        "Определение максимального значения."
      ],
      "metadata": {
        "id": "Tz4b4zSEHEeZ"
      }
    },
    {
      "cell_type": "code",
      "source": [
        "income_list = [13000, 14000, 14300, 15000, 13800, 13000, 14900, 15200, 15300]\n",
        "max_el = max(income_list)\n",
        "print(max_el)"
      ],
      "metadata": {
        "id": "IMtTD6IsHHTN",
        "colab": {
          "base_uri": "https://localhost:8080/"
        },
        "outputId": "0a09048b-0fb4-44d7-f980-ff514c9de076"
      },
      "execution_count": null,
      "outputs": [
        {
          "output_type": "stream",
          "name": "stdout",
          "text": [
            "15300\n"
          ]
        }
      ]
    },
    {
      "cell_type": "markdown",
      "source": [
        "Функция `sum`\n",
        "\n",
        "Суммирует элементы в последовательности."
      ],
      "metadata": {
        "id": "NmVi7CCnHHZd"
      }
    },
    {
      "cell_type": "code",
      "source": [
        "income_list = [13000, 14000, 14300, 15000, 13800, 13000, 14900, 15200, 15300]\n",
        "sum_ = sum(income_list)\n",
        "print(sum_)"
      ],
      "metadata": {
        "id": "ACGROgOEYwdf",
        "colab": {
          "base_uri": "https://localhost:8080/"
        },
        "outputId": "d0ab27b0-9439-4610-f56a-c72c8833deff"
      },
      "execution_count": null,
      "outputs": [
        {
          "output_type": "stream",
          "name": "stdout",
          "text": [
            "128500\n"
          ]
        }
      ]
    },
    {
      "cell_type": "markdown",
      "source": [
        "Функция `len`\n",
        "\n",
        "Определеяет количество элементов в последвоательности."
      ],
      "metadata": {
        "id": "ZJTbFjmSplWF"
      }
    },
    {
      "cell_type": "code",
      "source": [
        "income_list = [13000, 14000, 14300, 15000, 13800, 13000, 14900, 15200, 15300]\n",
        "list_len = len(income_list)\n",
        "print(list_len)"
      ],
      "metadata": {
        "id": "s1A5mmGrpqDh",
        "colab": {
          "base_uri": "https://localhost:8080/"
        },
        "outputId": "7a7e098f-431a-47b3-a755-f84e84448c48"
      },
      "execution_count": null,
      "outputs": [
        {
          "output_type": "stream",
          "name": "stdout",
          "text": [
            "9\n"
          ]
        }
      ]
    },
    {
      "cell_type": "markdown",
      "metadata": {
        "id": "-SQPe00qaqNv"
      },
      "source": [
        "### Вложенные списки\n",
        "\n",
        "Элементом списка может быть любой объект, в том числе и другой список."
      ]
    },
    {
      "cell_type": "code",
      "execution_count": null,
      "metadata": {
        "id": "ayi4rkl1aqNv"
      },
      "outputs": [],
      "source": [
        "my_list = [\n",
        "    [1, 2, 3],\n",
        "    [4, 5, 6],\n",
        "    [7, 8, 9]\n",
        "]"
      ]
    },
    {
      "cell_type": "code",
      "execution_count": null,
      "metadata": {
        "id": "6wixIuMlaqNw",
        "colab": {
          "base_uri": "https://localhost:8080/"
        },
        "outputId": "d81cb86f-e7f6-40fe-e929-4a7b8356f2c6"
      },
      "outputs": [
        {
          "output_type": "stream",
          "name": "stdout",
          "text": [
            "2\n"
          ]
        }
      ],
      "source": [
        "print(my_list[0][1])"
      ]
    },
    {
      "cell_type": "markdown",
      "source": [
        "Какая длина у каждого из этих списков?"
      ],
      "metadata": {
        "id": "pjMSpO825AGo"
      }
    },
    {
      "cell_type": "code",
      "source": [
        "a = [1, 2, 3]\n",
        "b = [1, [2, 3]]\n",
        "c = []\n",
        "d = [1, 2, 3][1:]"
      ],
      "metadata": {
        "id": "v1NoMIOD5BoD"
      },
      "execution_count": null,
      "outputs": []
    },
    {
      "cell_type": "markdown",
      "source": [
        "\n",
        "### Дополнительные материалы\n",
        "\n",
        "* [Как добавить элементы в список](https://teletype.in/@pythontalk/append_lists)\n",
        "* [Как удалить элементы из списка](https://teletype.in/@pythontalk/list_remove)\n",
        "* [Как удалить дубли из списка](https://teletype.in/@pythontalk/remove_duplicates)"
      ],
      "metadata": {
        "id": "L7BSIujeJjcJ"
      }
    },
    {
      "cell_type": "markdown",
      "source": [
        "## Кортежи\n",
        "\n",
        "Кортежи в Python очень похожи на списки, но являются неизменяемыми. Их можно создать один раз и затем использовать без модификации элементов внутри.\n",
        "Все операции, которые не изменяют исходный объект (сложение, умножение на число, методы `index()`, `count()` и пр.) доступны для кортежа.\n",
        "\n",
        "Кроме методом `index()` и `count()` у кортежей других и нет :)"
      ],
      "metadata": {
        "id": "OGs53BMRYwje"
      }
    },
    {
      "cell_type": "markdown",
      "source": [
        "Пустой кортеж можно создать так:"
      ],
      "metadata": {
        "id": "m5IE4PS1ZJHY"
      }
    },
    {
      "cell_type": "code",
      "source": [
        "tuple_ = ()\n",
        "print(type(tuple_))"
      ],
      "metadata": {
        "id": "L5UkeahCZKSQ",
        "colab": {
          "base_uri": "https://localhost:8080/"
        },
        "outputId": "1588ecf6-e4ed-434b-9855-8ad3e4b87896"
      },
      "execution_count": null,
      "outputs": [
        {
          "output_type": "stream",
          "name": "stdout",
          "text": [
            "<class 'tuple'>\n"
          ]
        }
      ]
    },
    {
      "cell_type": "markdown",
      "source": [
        "А что насчёт кортежа из одного элемента?\n",
        "\n"
      ],
      "metadata": {
        "id": "PDpCV9zaZLe0"
      }
    },
    {
      "cell_type": "code",
      "source": [
        "one_el_tuple = (42)\n",
        "print(type(one_el_tuple))"
      ],
      "metadata": {
        "id": "WgZbpWLGZMlo",
        "colab": {
          "base_uri": "https://localhost:8080/"
        },
        "outputId": "b506fff5-2312-4cf6-bb26-40b44dc1e63b"
      },
      "execution_count": null,
      "outputs": [
        {
          "output_type": "stream",
          "name": "stdout",
          "text": [
            "<class 'int'>\n"
          ]
        }
      ]
    },
    {
      "cell_type": "markdown",
      "source": [
        "Для кортежа важно поставить запятую:"
      ],
      "metadata": {
        "id": "ZoS0dxGlZPWe"
      }
    },
    {
      "cell_type": "code",
      "source": [
        "one_el_tuple = (42, )\n",
        "print(type(one_el_tuple))"
      ],
      "metadata": {
        "id": "W0q1Cx-fZQO5",
        "colab": {
          "base_uri": "https://localhost:8080/"
        },
        "outputId": "1e8c6acc-500e-4ac8-d561-2b2bb1dc6394"
      },
      "execution_count": null,
      "outputs": [
        {
          "output_type": "stream",
          "name": "stdout",
          "text": [
            "<class 'tuple'>\n"
          ]
        }
      ]
    },
    {
      "cell_type": "markdown",
      "source": [
        "Продемонстрируем эффективность кортежей по сравнению со списками"
      ],
      "metadata": {
        "id": "1JSO87FxY68V"
      }
    },
    {
      "cell_type": "code",
      "source": [
        "import sys\n",
        "import time\n",
        "\n",
        "# Создание большого списка и кортежа\n",
        "list_size = 10000000\n",
        "\n",
        "# Создание списка с одинаковыми элементами\n",
        "list_data = [1] * list_size\n",
        "\n",
        "# Создание кортежа с одинаковыми элементами\n",
        "tuple_data = (1,) * list_size\n",
        "\n",
        "# Измерение времени суммирования элементов списка\n",
        "start_time = time.time()\n",
        "list_sum = sum(list_data)\n",
        "list_sum_time = time.time() - start_time\n",
        "\n",
        "# Измерение времени суммирования элементов кортежа\n",
        "start_time = time.time()\n",
        "tuple_sum = sum(tuple_data)\n",
        "tuple_sum_time = time.time() - start_time\n",
        "\n",
        "print(f\"Время суммирования элементов списка: {list_sum_time} секунд\")\n",
        "print(f\"Время суммирования элементов кортежа: {tuple_sum_time} секунд\")\n",
        "print(f\"Разница во времени суммирования: {abs(list_sum_time - tuple_sum_time)} секунд\")"
      ],
      "metadata": {
        "id": "DDXZLAhfY80G",
        "colab": {
          "base_uri": "https://localhost:8080/"
        },
        "outputId": "562f3ba2-ef4b-44fb-83ba-a15e6e97ded2"
      },
      "execution_count": null,
      "outputs": [
        {
          "output_type": "stream",
          "name": "stdout",
          "text": [
            "Время суммирования элементов списка: 0.06146526336669922 секунд\n",
            "Время суммирования элементов кортежа: 0.059545278549194336 секунд\n",
            "Разница во времени суммирования: 0.0019199848175048828 секунд\n"
          ]
        }
      ]
    },
    {
      "cell_type": "markdown",
      "source": [
        "Так как кортежи неизменяемы, то вот так изменить их элементы мы не сможем (аналогично, как со строками)."
      ],
      "metadata": {
        "id": "AwgVpW0k5mNJ"
      }
    },
    {
      "cell_type": "code",
      "source": [
        "tuple_[0] = 500"
      ],
      "metadata": {
        "id": "BixJ3fNQ5nmn",
        "colab": {
          "base_uri": "https://localhost:8080/",
          "height": 141
        },
        "outputId": "8fb374d0-6733-40c5-9fa8-2e8bbeda93ff"
      },
      "execution_count": null,
      "outputs": [
        {
          "output_type": "error",
          "ename": "TypeError",
          "evalue": "'tuple' object does not support item assignment",
          "traceback": [
            "\u001b[0;31m---------------------------------------------------------------------------\u001b[0m",
            "\u001b[0;31mTypeError\u001b[0m                                 Traceback (most recent call last)",
            "\u001b[0;32m<ipython-input-76-8b0425551352>\u001b[0m in \u001b[0;36m<cell line: 1>\u001b[0;34m()\u001b[0m\n\u001b[0;32m----> 1\u001b[0;31m \u001b[0mtuple_\u001b[0m\u001b[0;34m[\u001b[0m\u001b[0;36m0\u001b[0m\u001b[0;34m]\u001b[0m \u001b[0;34m=\u001b[0m \u001b[0;36m500\u001b[0m\u001b[0;34m\u001b[0m\u001b[0;34m\u001b[0m\u001b[0m\n\u001b[0m",
            "\u001b[0;31mTypeError\u001b[0m: 'tuple' object does not support item assignment"
          ]
        }
      ]
    },
    {
      "cell_type": "markdown",
      "source": [
        "## Преобразование составных структур"
      ],
      "metadata": {
        "id": "8niYz8q2reBi"
      }
    },
    {
      "cell_type": "markdown",
      "source": [
        "Строки в кортеж и список"
      ],
      "metadata": {
        "id": "jWBKEDn0_4_l"
      }
    },
    {
      "cell_type": "code",
      "source": [
        "some_str = 'Hello'\n",
        "\n",
        "str_to_list = list(some_str)\n",
        "print(str_to_list)\n",
        "\n",
        "str_to_tuple = tuple(some_str)\n",
        "print(str_to_tuple)"
      ],
      "metadata": {
        "id": "CoMv299XrhVi",
        "colab": {
          "base_uri": "https://localhost:8080/"
        },
        "outputId": "5c95fcfd-7591-4633-893a-e720a19dfa07"
      },
      "execution_count": null,
      "outputs": [
        {
          "output_type": "stream",
          "name": "stdout",
          "text": [
            "['H', 'e', 'l', 'l', 'o']\n",
            "('H', 'e', 'l', 'l', 'o')\n"
          ]
        }
      ]
    },
    {
      "cell_type": "markdown",
      "source": [
        "Список в строку и кортеж"
      ],
      "metadata": {
        "id": "6RJiN97D_-Xv"
      }
    },
    {
      "cell_type": "code",
      "source": [
        "some_list = ['a', 'b', 'c']\n",
        "list_to_str = str(some_list)  # но так делать не стоит\n",
        "print(list_to_str)"
      ],
      "metadata": {
        "id": "84Q6bG42rnwW",
        "colab": {
          "base_uri": "https://localhost:8080/"
        },
        "outputId": "a6a38843-f3a5-4d79-be48-f15a493d1804"
      },
      "execution_count": null,
      "outputs": [
        {
          "output_type": "stream",
          "name": "stdout",
          "text": [
            "['a', 'b', 'c']\n"
          ]
        }
      ]
    },
    {
      "cell_type": "code",
      "source": [
        "some_str_list = ['a', 'b', 'c']\n",
        "str_list_to_str = ''.join(some_str_list)\n",
        "print(str_list_to_str)"
      ],
      "metadata": {
        "id": "596-Kp-l_F-h",
        "colab": {
          "base_uri": "https://localhost:8080/"
        },
        "outputId": "36cadcf5-5e61-42db-c645-0afeceb05fc4"
      },
      "execution_count": null,
      "outputs": [
        {
          "output_type": "stream",
          "name": "stdout",
          "text": [
            "abc\n"
          ]
        }
      ]
    },
    {
      "cell_type": "code",
      "source": [
        "list_to_tuple = tuple(some_list)\n",
        "print(list_to_tuple)"
      ],
      "metadata": {
        "id": "seAwbz4-_Gg2",
        "colab": {
          "base_uri": "https://localhost:8080/"
        },
        "outputId": "34525a0d-0244-4c9e-a1e8-e0a302785c4a"
      },
      "execution_count": null,
      "outputs": [
        {
          "output_type": "stream",
          "name": "stdout",
          "text": [
            "('a', 'b', 'c')\n"
          ]
        }
      ]
    },
    {
      "cell_type": "markdown",
      "source": [
        "Кортеж в строку и список"
      ],
      "metadata": {
        "id": "ja3orYiwAAMo"
      }
    },
    {
      "cell_type": "code",
      "source": [
        "some_tuple = ('a', 'b', 'c')\n",
        "\n",
        "tuple_to_str = str(some_tuple) # и так делать не стоит\n",
        "print(tuple_to_str)\n"
      ],
      "metadata": {
        "id": "1iantGsvsEIM",
        "colab": {
          "base_uri": "https://localhost:8080/"
        },
        "outputId": "a8bfa1b0-abe1-4ae5-be22-e6a5e220d5d8"
      },
      "execution_count": null,
      "outputs": [
        {
          "output_type": "stream",
          "name": "stdout",
          "text": [
            "('a', 'b', 'c')\n"
          ]
        }
      ]
    },
    {
      "cell_type": "code",
      "source": [
        "some_str_tuple = ('a', 'b', 'c')\n",
        "str_tuple_to_str = ' '.join(some_str_tuple)\n",
        "print(str_tuple_to_str)"
      ],
      "metadata": {
        "id": "OtmGj6E6_IMi",
        "colab": {
          "base_uri": "https://localhost:8080/"
        },
        "outputId": "a0a3ad72-2199-4120-bb6a-15fa80c52860"
      },
      "execution_count": null,
      "outputs": [
        {
          "output_type": "stream",
          "name": "stdout",
          "text": [
            "a b c\n"
          ]
        }
      ]
    },
    {
      "cell_type": "code",
      "source": [
        "tuple_to_list = list(some_tuple)\n",
        "print(tuple_to_list)"
      ],
      "metadata": {
        "colab": {
          "base_uri": "https://localhost:8080/"
        },
        "id": "XmbcmxtwAI1Y",
        "outputId": "234c3c30-86bb-47cd-b06a-cd7daf7b2d27"
      },
      "execution_count": null,
      "outputs": [
        {
          "output_type": "stream",
          "name": "stdout",
          "text": [
            "['a', 'b', 'c']\n"
          ]
        }
      ]
    },
    {
      "cell_type": "markdown",
      "metadata": {
        "id": "lU7i_wOgRSHm"
      },
      "source": [
        "## Множественное [присваивание](https://teletype.in/@pythontalk/assignment_operators)\n",
        "\n",
        "В Python существует множественное присваивание, которое позволяет присваивать значения нескольким переменным одновременно. При множественном присваивании порядок присваивания формируется слева направо. Количество значений в объекте справа и количество переменных слева от оператора присваивания должно совпадать."
      ]
    },
    {
      "cell_type": "code",
      "metadata": {
        "id": "P6bCFVfmRWGy",
        "colab": {
          "base_uri": "https://localhost:8080/"
        },
        "outputId": "2f0d8c87-fa6a-4d0f-bcfc-830b857d617a"
      },
      "source": [
        "name = 'Илон'\n",
        "pro = 'Разработчик'\n",
        "salary = 100000\n",
        "\n",
        "name, pro, salary = 'Илон', 'Разработчик', 100000\n",
        "print(name)\n",
        "print(pro)\n",
        "print(salary)"
      ],
      "execution_count": null,
      "outputs": [
        {
          "output_type": "stream",
          "name": "stdout",
          "text": [
            "Илон\n",
            "Разработчик\n",
            "100000\n"
          ]
        }
      ]
    },
    {
      "cell_type": "markdown",
      "metadata": {
        "id": "erwQla1f2Q1s"
      },
      "source": [
        "Благодаря множественному присваиванию в Python легко решается задача замены переменных местами.\n",
        "\n",
        "В других языках эта задача решается через третью переменную."
      ]
    },
    {
      "cell_type": "code",
      "metadata": {
        "id": "nNGT-dkt2Q1s",
        "colab": {
          "base_uri": "https://localhost:8080/"
        },
        "outputId": "8ff83422-7423-4bd9-a924-75fad3458785"
      },
      "source": [
        "answer = 42\n",
        "code = 4815162342\n",
        "\n",
        "c = answer\n",
        "\n",
        "answer = code\n",
        "code = c\n",
        "\n",
        "print(answer, code)"
      ],
      "execution_count": null,
      "outputs": [
        {
          "output_type": "stream",
          "name": "stdout",
          "text": [
            "4815162342 42\n"
          ]
        }
      ]
    },
    {
      "cell_type": "markdown",
      "metadata": {
        "id": "Nva22H5j2Q1t"
      },
      "source": [
        "А в Python можно так:"
      ]
    },
    {
      "cell_type": "code",
      "metadata": {
        "id": "qMqqa8I82Q1t",
        "colab": {
          "base_uri": "https://localhost:8080/"
        },
        "outputId": "0da253ef-fb58-4afd-b63a-7721624d1eb9"
      },
      "source": [
        "answer, code = code, answer\n",
        "print(answer, code)"
      ],
      "execution_count": null,
      "outputs": [
        {
          "output_type": "stream",
          "name": "stdout",
          "text": [
            "42 4815162342\n"
          ]
        }
      ]
    },
    {
      "cell_type": "markdown",
      "metadata": {
        "id": "0ltwpcw_RbGD"
      },
      "source": [
        "4 участника гонок в начале занимали позиции согласно их порядку в представленном списке. Но к окончанию гонки первый участник оказался на последнем месте, а последний на первом. Измените список соответствущим образом максимально лаконично.\n"
      ]
    },
    {
      "cell_type": "code",
      "execution_count": null,
      "metadata": {
        "id": "CfECQPE7RbGD"
      },
      "outputs": [],
      "source": [
        "racers = ['Шумахер', 'Хэмилтон', 'Алонсо', 'Райкконен']"
      ]
    },
    {
      "cell_type": "code",
      "source": [
        "racers[0], racers[-1] = racers[-1], racers[0]\n",
        "print(racers)"
      ],
      "metadata": {
        "colab": {
          "base_uri": "https://localhost:8080/"
        },
        "id": "uPvTIGAEkriq",
        "outputId": "6fa761d4-eace-469e-c997-287dbe9a7195"
      },
      "execution_count": null,
      "outputs": [
        {
          "output_type": "stream",
          "name": "stdout",
          "text": [
            "['Райкконен', 'Хэмилтон', 'Алонсо', 'Шумахер']\n"
          ]
        }
      ]
    },
    {
      "cell_type": "markdown",
      "source": [
        "## [Функция `zip`](https://t.me/pythontalk_ru/530)\n",
        "\n",
        "Функция `zip()` в Python используется для объединения элементов из нескольких структур данных в [итератор](https://teletype.in/@pythontalk/iterator_generator).  \n",
        "Этот итератор содержит кортежи с поэлементно сгруппированными элементами исходных структур.  \n",
        "Если элементов в одном из источников заканчиваются, функция останавливается.\n"
      ],
      "metadata": {
        "id": "dWn1d5V18u1F"
      }
    },
    {
      "cell_type": "code",
      "source": [
        "month_list = ['Jan', 'Feb', 'Mar', 'Apr', 'May', 'Jun', 'Jul', 'Aug', 'Sep']\n",
        "income_list = (13000, 14000, 14300, 15000, 13800, 13000, 14900, 15200, 15300)"
      ],
      "metadata": {
        "id": "fQSvs1dO9ar7"
      },
      "execution_count": null,
      "outputs": []
    },
    {
      "cell_type": "code",
      "source": [
        "salaries_by_names = zip(month_list, income_list)\n",
        "print(salaries_by_names)"
      ],
      "metadata": {
        "id": "H9llkxGQ9b7f",
        "colab": {
          "base_uri": "https://localhost:8080/"
        },
        "outputId": "b611c2cf-96aa-4354-9e09-0a830bd12c93"
      },
      "execution_count": null,
      "outputs": [
        {
          "output_type": "stream",
          "name": "stdout",
          "text": [
            "<zip object at 0x79fe32983f80>\n"
          ]
        }
      ]
    },
    {
      "cell_type": "markdown",
      "source": [
        "Итератор можно преобразовать в составной тип данных или пройтись по нему циклом."
      ],
      "metadata": {
        "id": "QQBPZYYF9fM2"
      }
    },
    {
      "cell_type": "code",
      "source": [
        "print(list(salaries_by_names))"
      ],
      "metadata": {
        "id": "iW4j9QsR9lNk",
        "colab": {
          "base_uri": "https://localhost:8080/"
        },
        "outputId": "37535470-c12b-4239-c45a-687b899e4136"
      },
      "execution_count": null,
      "outputs": [
        {
          "output_type": "stream",
          "name": "stdout",
          "text": [
            "[('Jan', 13000), ('Feb', 14000), ('Mar', 14300), ('Apr', 15000), ('May', 13800), ('Jun', 13000), ('Jul', 14900), ('Aug', 15200), ('Sep', 15300)]\n"
          ]
        }
      ]
    },
    {
      "cell_type": "markdown",
      "metadata": {
        "id": "LHb1QQPaRbGD"
      },
      "source": [
        "## Операторы `in`, `not in`\n",
        "\n",
        "Возвращает `True`, если элемент содержится / не содержится в последовательности (списке, кортеже, строке и пр.)."
      ]
    },
    {
      "cell_type": "code",
      "execution_count": null,
      "metadata": {
        "id": "Bk_rsQ3YRbGD",
        "colab": {
          "base_uri": "https://localhost:8080/"
        },
        "outputId": "6d7a0fdc-6df8-48e0-e49f-1b59b0f143fd"
      },
      "outputs": [
        {
          "output_type": "stream",
          "name": "stdout",
          "text": [
            "True\n",
            "False\n"
          ]
        }
      ],
      "source": [
        "print('Hello' in 'Hello World')\n",
        "print('Hello' not in 'Hello World')"
      ]
    },
    {
      "cell_type": "code",
      "execution_count": null,
      "metadata": {
        "id": "FzBAPzwyRbGE",
        "colab": {
          "base_uri": "https://localhost:8080/"
        },
        "outputId": "3acdb561-888c-4693-ac17-eaa417978bc2"
      },
      "outputs": [
        {
          "output_type": "stream",
          "name": "stdout",
          "text": [
            "True\n",
            "False\n"
          ]
        }
      ],
      "source": [
        "print('Москва' in ['Санкт-Петербург', 'Екатеринбург', 'Калининград', 'Москва'])\n",
        "print('Москва' not in ['Санкт-Петербург', 'Екатеринбург', 'Калининград', 'Москва'])"
      ]
    },
    {
      "cell_type": "code",
      "source": [
        "# Список покупок\n",
        "shopping_list = [\"молоко\", \"хлеб\", \"яйца\", \"сыр\", \"масло\"]\n",
        "\n",
        "# Продукт, который нужно проверить\n",
        "product_to_check = \"яйца\"\n",
        "\n",
        "# Проверка наличия продукта в списке\n",
        "if product_to_check in shopping_list:\n",
        "    print(f\"{product_to_check} есть в списке покупок.\")  # Вывод: яйца есть в списке покупок.\n",
        "else:\n",
        "    print(f\"{product_to_check} нет в списке покупок.\")\n",
        "\n",
        "# Проверка отсутствия продукта в списке\n",
        "product_to_check = \"йогурт\"\n",
        "if product_to_check not in shopping_list:\n",
        "    print(f\"{product_to_check} нет в списке покупок.\")  # Вывод: йогурт нет в списке покупок.\n",
        "else:\n",
        "    print(f\"{product_to_check} есть в списке покупок.\")"
      ],
      "metadata": {
        "id": "bixlHFckCl3Y",
        "colab": {
          "base_uri": "https://localhost:8080/"
        },
        "outputId": "01dafb7e-de24-4934-9ca2-b944de17e36a"
      },
      "execution_count": null,
      "outputs": [
        {
          "output_type": "stream",
          "name": "stdout",
          "text": [
            "яйца есть в списке покупок.\n",
            "йогурт нет в списке покупок.\n"
          ]
        }
      ]
    },
    {
      "cell_type": "code",
      "source": [
        "some_list = [[1, 2, 3], [4, 5, 6], [7, 8, 9]]\n",
        "print(2 in some_list)\n",
        "print(2 in some_list[0])"
      ],
      "metadata": {
        "id": "G_GoQYm7e0XJ",
        "colab": {
          "base_uri": "https://localhost:8080/"
        },
        "outputId": "63be2d51-3ab2-4560-d70d-e72b3aa68039"
      },
      "execution_count": null,
      "outputs": [
        {
          "output_type": "stream",
          "name": "stdout",
          "text": [
            "False\n",
            "True\n"
          ]
        }
      ]
    },
    {
      "cell_type": "markdown",
      "source": [
        "Для продвинутых рекомендую почитать материал про [структуры данных и алгоритмы в Python](https://teletype.in/@pythontalk/data_structures_algorithms).\n",
        "\n"
      ],
      "metadata": {
        "id": "q18bTBYYJset"
      }
    }
  ],
  "metadata": {
    "kernelspec": {
      "display_name": "Python 3 (ipykernel)",
      "language": "python",
      "name": "python3"
    },
    "language_info": {
      "codemirror_mode": {
        "name": "ipython",
        "version": 3
      },
      "file_extension": ".py",
      "mimetype": "text/x-python",
      "name": "python",
      "nbconvert_exporter": "python",
      "pygments_lexer": "ipython3",
      "version": "3.10.9"
    },
    "toc": {
      "base_numbering": 1,
      "nav_menu": {},
      "number_sections": true,
      "sideBar": true,
      "skip_h1_title": false,
      "title_cell": "Table of Contents",
      "title_sidebar": "Contents",
      "toc_cell": false,
      "toc_position": {},
      "toc_section_display": true,
      "toc_window_display": false
    },
    "colab": {
      "provenance": [],
      "toc_visible": true,
      "include_colab_link": true
    }
  },
  "nbformat": 4,
  "nbformat_minor": 0
}